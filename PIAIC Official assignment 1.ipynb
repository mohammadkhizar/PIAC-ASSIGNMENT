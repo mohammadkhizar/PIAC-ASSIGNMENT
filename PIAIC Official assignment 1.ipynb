{
 "cells": [
  {
   "cell_type": "markdown",
   "metadata": {},
   "source": [
    "## 1. Calculate Area of a Circle"
   ]
  },
  {
   "cell_type": "markdown",
   "metadata": {},
   "source": [
    "#### Write a Python program which accepts the radius of a circle from the user and compute the area.\n",
    "###### Program Console Sample Output 1:\n",
    "###### Input Radius: 0.5\n",
    "###### Area of Circle with radius 0.5 is 0.7853981634"
   ]
  },
  {
   "cell_type": "code",
   "execution_count": 25,
   "metadata": {},
   "outputs": [
    {
     "name": "stdout",
     "output_type": "stream",
     "text": [
      "Enter Radius of Circle : 0.5\n",
      "\n",
      "Area of Circle : 0.7853981633975\n"
     ]
    }
   ],
   "source": [
    "pi=3.14159265359\n",
    "radius=float(input(\"Enter Radius of Circle : \"))\n",
    "a=pi*radius**2\n",
    "print(f\"\\nArea of Circle : {a}\")"
   ]
  },
  {
   "cell_type": "markdown",
   "metadata": {},
   "source": []
  },
  {
   "cell_type": "code",
   "execution_count": 26,
   "metadata": {},
   "outputs": [
    {
     "name": "stdout",
     "output_type": "stream",
     "text": [
      "Enter Radius of Circle : 0.2\n",
      "\n",
      "Area of Circle : 0.12566370614360003\n"
     ]
    }
   ],
   "source": [
    "pi=3.14159265359\n",
    "radius=float(input(\"Enter Radius of Circle : \"))\n",
    "a=pi*radius**2\n",
    "print(f\"\\nArea of Circle : {a}\")"
   ]
  },
  {
   "cell_type": "markdown",
   "metadata": {},
   "source": [
    "## 2. Check Number either positive, negative or zero"
   ]
  },
  {
   "cell_type": "markdown",
   "metadata": {},
   "source": [
    "#### Write a Python program to check if a number is positive, negative or zero\n",
    "###### Program Console Sample Output 1:\n",
    "###### Enter Number: -1\n",
    "##### Negative Number Entered\n",
    "###### Program Console Sample Output 2:\n",
    "##### Integer: 3\n",
    "##### Positive Number Entered\n",
    "###### Program Console Sample Output 3:\n",
    "##### Integer: 0\n",
    "###### Zero Entered"
   ]
  },
  {
   "cell_type": "code",
   "execution_count": 12,
   "metadata": {},
   "outputs": [
    {
     "name": "stdout",
     "output_type": "stream",
     "text": [
      "Enter any Number : -1\n",
      "-1 is Negative Number\n"
     ]
    }
   ],
   "source": [
    "num=int(input(\"Enter any Number : \"))\n",
    "if(num>0):\n",
    "    print(f\"{num} is Positive Number\")\n",
    "elif(num<0):\n",
    "    print(f\"{num} is Negative Number\")\n",
    "else:\n",
    "    print(\"The number is Zero\")"
   ]
  },
  {
   "cell_type": "code",
   "execution_count": 13,
   "metadata": {},
   "outputs": [
    {
     "name": "stdout",
     "output_type": "stream",
     "text": [
      "Enter any Number : 3\n",
      "3 is Positive Number\n"
     ]
    }
   ],
   "source": [
    "num=int(input(\"Enter any Number : \"))\n",
    "if(num>0):\n",
    "    print(f\"{num} is Positive Number\")\n",
    "elif(num<0):\n",
    "    print(f\"{num} is Negative Number\")\n",
    "else:\n",
    "    print(\"The number is Zero\")"
   ]
  },
  {
   "cell_type": "code",
   "execution_count": 14,
   "metadata": {},
   "outputs": [
    {
     "name": "stdout",
     "output_type": "stream",
     "text": [
      "Enter any Number : 0\n",
      "The number is Zero\n"
     ]
    }
   ],
   "source": [
    "num=int(input(\"Enter any Number : \"))\n",
    "if(num>0):\n",
    "    print(f\"{num} is Positive Number\")\n",
    "elif(num<0):\n",
    "    print(f\"{num} is Negative Number\")\n",
    "else:\n",
    "    print(\"The number is Zero\")"
   ]
  },
  {
   "cell_type": "code",
   "execution_count": null,
   "metadata": {},
   "outputs": [],
   "source": []
  },
  {
   "cell_type": "markdown",
   "metadata": {},
   "source": [
    "## 3. Divisibility Check of two numbers"
   ]
  },
  {
   "cell_type": "markdown",
   "metadata": {},
   "source": [
    "#### Write a Python program to check whether a number is completely divisible by another number. Accept two integer values form the user\n",
    "##### Program Console Sample Output 1:\n",
    "###### Enter numerator: 4\n",
    "###### Enter Denominator: 2\n",
    "##### Number 4 is Completely divisible by 2\n",
    "###### Program Console Sample Output 2:\n",
    "##### Enter numerator: 7\n",
    "\n",
    "##### Enter Denominator: 4\n",
    "###### Number 7 is not Completely divisible by 4"
   ]
  },
  {
   "cell_type": "code",
   "execution_count": 18,
   "metadata": {},
   "outputs": [
    {
     "name": "stdout",
     "output_type": "stream",
     "text": [
      "Enter Numerator : 4\n",
      "Enter Denominator : 2\n",
      "4 is Completely Divisible By 2\n"
     ]
    }
   ],
   "source": [
    "n=int(input(\"Enter Numerator : \"))\n",
    "d=int(input(\"Enter Denominator : \"))\n",
    "if(n%d==0):\n",
    "    print(f\"{n} is Completely Divisible By {d}\")\n",
    "else:\n",
    "    print(f\"{n} is Not Completely Divisible By {d}\")"
   ]
  },
  {
   "cell_type": "code",
   "execution_count": 19,
   "metadata": {},
   "outputs": [
    {
     "name": "stdout",
     "output_type": "stream",
     "text": [
      "Enter Numerator : 7\n",
      "Enter Denominator : 4\n",
      "7 is Not Completely Divisible By 4\n"
     ]
    }
   ],
   "source": [
    "n=int(input(\"Enter Numerator : \"))\n",
    "d=int(input(\"Enter Denominator : \"))\n",
    "if(n%d==0):\n",
    "    print(f\"{n} is Completely Divisible By {d}\")\n",
    "else:\n",
    "    print(f\"{n} is Not Completely Divisible By {d}\")"
   ]
  },
  {
   "cell_type": "code",
   "execution_count": null,
   "metadata": {},
   "outputs": [],
   "source": []
  },
  {
   "cell_type": "code",
   "execution_count": null,
   "metadata": {},
   "outputs": [],
   "source": []
  },
  {
   "cell_type": "code",
   "execution_count": null,
   "metadata": {},
   "outputs": [],
   "source": []
  },
  {
   "cell_type": "code",
   "execution_count": null,
   "metadata": {},
   "outputs": [],
   "source": []
  },
  {
   "cell_type": "markdown",
   "metadata": {},
   "source": [
    "## 4. Calculate Volume of a sphere"
   ]
  },
  {
   "cell_type": "markdown",
   "metadata": {},
   "source": [
    "##### Write a Python program to get the volume of a sphere, please take the radius as input from user"
   ]
  },
  {
   "cell_type": "markdown",
   "metadata": {},
   "source": [
    "##### Program Console Output:\n",
    "##### Enter Radius of Sphere: 1\n",
    "###### Volume of the Sphere with Radius 1 is 4.18"
   ]
  },
  {
   "cell_type": "code",
   "execution_count": 22,
   "metadata": {},
   "outputs": [
    {
     "name": "stdout",
     "output_type": "stream",
     "text": [
      "Enter Radius of A Sphere : 1\n",
      "Volume of the Sphere : 4.19\n"
     ]
    }
   ],
   "source": [
    "pi=3.14159265359\n",
    "r=float(input(\"Enter Radius of A Sphere : \"))\n",
    "v=4/3*pi*r**3\n",
    "print(f\"Volume of the Sphere : {v:.2f}\")"
   ]
  },
  {
   "cell_type": "code",
   "execution_count": null,
   "metadata": {},
   "outputs": [],
   "source": []
  },
  {
   "cell_type": "code",
   "execution_count": null,
   "metadata": {},
   "outputs": [],
   "source": []
  },
  {
   "cell_type": "code",
   "execution_count": null,
   "metadata": {},
   "outputs": [],
   "source": []
  },
  {
   "cell_type": "code",
   "execution_count": null,
   "metadata": {},
   "outputs": [],
   "source": []
  },
  {
   "cell_type": "markdown",
   "metadata": {},
   "source": [
    "## 5. Copy string n times\n",
    "#### Write a Python program to get a string which is n (non-negative integer) copies of a given string.\n",
    "##### Program Console Output:\n",
    "##### Enter String: Hi\n",
    "###### How many copies of String you need: 4\n",
    "###### 4 Copies of Hi are HiHiHiHi"
   ]
  },
  {
   "cell_type": "code",
   "execution_count": 30,
   "metadata": {},
   "outputs": [
    {
     "name": "stdout",
     "output_type": "stream",
     "text": [
      "Enter String : Hi\n",
      "Number of Copies : 4\n",
      "4 Copies of Hi are HiHiHiHi"
     ]
    }
   ],
   "source": [
    "s=input(\"Enter String : \")\n",
    "copies=int(input(\"Number of Copies : \"))\n",
    "print(f\"{copies} Copies of {s} are \",end=\"\")\n",
    "for i in range(copies):\n",
    "    print(f\"{s}\",end=\"\")"
   ]
  },
  {
   "cell_type": "code",
   "execution_count": 31,
   "metadata": {},
   "outputs": [
    {
     "name": "stdout",
     "output_type": "stream",
     "text": [
      "Enter String : Hi\n",
      "Number of Copies : 4\n",
      "4 Copies of Hi are  HiHiHiHi\n"
     ]
    }
   ],
   "source": [
    "#Second Method\n",
    "s=input(\"Enter String : \")\n",
    "copies=int(input(\"Number of Copies : \"))\n",
    "print(f\"{copies} Copies of {s} are \",s*copies)"
   ]
  },
  {
   "cell_type": "code",
   "execution_count": null,
   "metadata": {},
   "outputs": [],
   "source": []
  },
  {
   "cell_type": "code",
   "execution_count": null,
   "metadata": {},
   "outputs": [],
   "source": []
  },
  {
   "cell_type": "code",
   "execution_count": null,
   "metadata": {},
   "outputs": [],
   "source": []
  },
  {
   "cell_type": "markdown",
   "metadata": {},
   "source": [
    "## 6. Check if number is Even or Odd\n",
    "### Write a Python program to find whether a given number (accept from the user) is even or odd, print out an appropriate message to the user\n",
    "#### Program Console Output 1:\n",
    "##### Enter Number: 4\n",
    "###### 4 is Even\n",
    "#### Program Console Output 2:\n",
    "##### Enter Number: 9\n",
    "###### 9 is Odd"
   ]
  },
  {
   "cell_type": "code",
   "execution_count": 32,
   "metadata": {},
   "outputs": [
    {
     "name": "stdout",
     "output_type": "stream",
     "text": [
      "Enter A Number : 4\n",
      "4 is Even\n"
     ]
    }
   ],
   "source": [
    "num=int(input(\"Enter A Number : \"))\n",
    "if(num%2==0):\n",
    "    print(f\"{num} is Even\")\n",
    "else:\n",
    "    print(f\"{num} is Odd\")"
   ]
  },
  {
   "cell_type": "code",
   "execution_count": 33,
   "metadata": {},
   "outputs": [
    {
     "name": "stdout",
     "output_type": "stream",
     "text": [
      "Enter A Number : 9\n",
      "9 is Odd\n"
     ]
    }
   ],
   "source": [
    "num=int(input(\"Enter A Number : \"))\n",
    "if(num%2==0):\n",
    "    print(f\"{num} is Even\")\n",
    "else:\n",
    "    print(f\"{num} is Odd\")"
   ]
  },
  {
   "cell_type": "code",
   "execution_count": null,
   "metadata": {},
   "outputs": [],
   "source": []
  },
  {
   "cell_type": "code",
   "execution_count": null,
   "metadata": {},
   "outputs": [],
   "source": []
  },
  {
   "cell_type": "code",
   "execution_count": null,
   "metadata": {},
   "outputs": [],
   "source": []
  },
  {
   "cell_type": "markdown",
   "metadata": {},
   "source": [
    "## 7. Vowel Tester\n",
    "### Write a Python program to test whether a passed letter is a vowel or not\n",
    "#### Program Console Output 1:\n",
    "##### Enter a character: A\n",
    "###### Letter A is Vowel\n",
    "#### Program Console Output 2:\n",
    "##### Enter a character: e\n",
    "###### Letter e is Vowel\n",
    "#### Program Console Output 2:\n",
    "##### Enter a character: N\n",
    "###### Letter N is not Vowel"
   ]
  },
  {
   "cell_type": "code",
   "execution_count": 40,
   "metadata": {},
   "outputs": [
    {
     "name": "stdout",
     "output_type": "stream",
     "text": [
      "Enter A Letter : A\n",
      "Letter A is Vowel\n"
     ]
    }
   ],
   "source": [
    "character=input(\"Enter A Letter : \")\n",
    "if(character==\"A\" or character==\"a\" or character==\"E\" or character==\"e\" or character==\"I\" or character==\"i\" or character==\"O\" or character==\"o\" or character==\"U\" or character==\"u\"):\n",
    "    print(f\"Letter {character} is Vowel\")\n",
    "else:\n",
    "    print(f\"Letter {character} is not Vowel\")"
   ]
  },
  {
   "cell_type": "code",
   "execution_count": 41,
   "metadata": {},
   "outputs": [
    {
     "name": "stdout",
     "output_type": "stream",
     "text": [
      "Enter A Letter : e\n",
      "Letter e is Vowel\n"
     ]
    }
   ],
   "source": [
    "character=input(\"Enter A Letter : \")\n",
    "if(character==\"A\" or character==\"a\" or character==\"E\" or character==\"e\" or character==\"I\" or character==\"i\" or character==\"O\" or character==\"o\" or character==\"U\" or character==\"u\"):\n",
    "    print(f\"Letter {character} is Vowel\")\n",
    "else:\n",
    "    print(f\"Letter {character} is not Vowel\")"
   ]
  },
  {
   "cell_type": "code",
   "execution_count": 42,
   "metadata": {},
   "outputs": [
    {
     "name": "stdout",
     "output_type": "stream",
     "text": [
      "Enter A Letter : N\n",
      "Letter N is not Vowel\n"
     ]
    }
   ],
   "source": [
    "character=input(\"Enter A Letter : \")\n",
    "if(character==\"A\" or character==\"a\" or character==\"E\" or character==\"e\" or character==\"I\" or character==\"i\" or character==\"O\" or character==\"o\" or character==\"U\" or character==\"u\"):\n",
    "    print(f\"Letter {character} is Vowel\")\n",
    "else:\n",
    "    print(f\"Letter {character} is not Vowel\")"
   ]
  },
  {
   "cell_type": "code",
   "execution_count": null,
   "metadata": {},
   "outputs": [],
   "source": []
  },
  {
   "cell_type": "markdown",
   "metadata": {},
   "source": [
    "## 8. Triangle area\n",
    "### Write a Python program that will accept the base and height of a triangle and compute the area\n",
    "###### Reference:\n",
    "https://www.mathgoodies.com/lessons/vol1/area_triangle"
   ]
  },
  {
   "cell_type": "code",
   "execution_count": 45,
   "metadata": {},
   "outputs": [
    {
     "name": "stdout",
     "output_type": "stream",
     "text": [
      "Enter Base of A Triangle : 15\n",
      "Enter Height of A Triangle : 4\n",
      "Area of Triangle : 30.0\n"
     ]
    }
   ],
   "source": [
    "Base=float(input(\"Enter Base of A Triangle : \"))\n",
    "Height=float(input(\"Enter Height of A Triangle : \"))\n",
    "Area=1/2*Base*Height\n",
    "print(f\"Area of Triangle : {Area}\")"
   ]
  },
  {
   "cell_type": "code",
   "execution_count": null,
   "metadata": {},
   "outputs": [],
   "source": []
  },
  {
   "cell_type": "code",
   "execution_count": null,
   "metadata": {},
   "outputs": [],
   "source": []
  },
  {
   "cell_type": "code",
   "execution_count": null,
   "metadata": {},
   "outputs": [],
   "source": []
  },
  {
   "cell_type": "markdown",
   "metadata": {},
   "source": [
    "## 9. Calculate Interest\n",
    "### Write a Python program to compute the future value of a specified principal amount, rate of interest, and a number of years\n",
    "#### Program Console Sample 1:\n",
    "##### Please enter principal amount: 10000\n",
    "###### Please Enter Rate of interest in %: 0.1\n",
    "###### Enter number of years for investment: 5\n",
    "###### After 5 years your principal amount 10000 over an interest rate of 0.1 % will be 16105.1"
   ]
  },
  {
   "cell_type": "code",
   "execution_count": 57,
   "metadata": {},
   "outputs": [
    {
     "name": "stdout",
     "output_type": "stream",
     "text": [
      "Please enter Principal Amount : 10000\n",
      "Please Enter Rate of interest in % : 0.1\n",
      "Enter number of years for investment : 5\n",
      "After 5 Years your Principal Amount 10000.0 over an Interest Rate of 0.1 will be 16105.1\n"
     ]
    }
   ],
   "source": [
    "pAmount=float(input(\"Please enter Principal Amount : \"))\n",
    "rateOfInterest=float(input(\"Please Enter Rate of interest in % : \"))\n",
    "numOfInvestments=int(input(\"Enter number of years for investment : \"))\n",
    "FV=pAmount*(1+rateOfInterest)**numOfInvestments\n",
    "print(f\"After {numOfInvestments} Years your Principal Amount {pAmount} over an Interest Rate of {rateOfInterest} will be {FV:.1f}\")"
   ]
  },
  {
   "cell_type": "code",
   "execution_count": null,
   "metadata": {},
   "outputs": [],
   "source": []
  },
  {
   "cell_type": "code",
   "execution_count": null,
   "metadata": {},
   "outputs": [],
   "source": []
  },
  {
   "cell_type": "code",
   "execution_count": null,
   "metadata": {},
   "outputs": [],
   "source": []
  },
  {
   "cell_type": "code",
   "execution_count": null,
   "metadata": {},
   "outputs": [],
   "source": []
  },
  {
   "cell_type": "code",
   "execution_count": null,
   "metadata": {},
   "outputs": [],
   "source": []
  },
  {
   "cell_type": "markdown",
   "metadata": {},
   "source": [
    "## 10. Euclidean distance\n",
    "### write a Python program to compute the distance between the points (x1, y1) and (x2, y2).\n",
    "#### Program Console Sample 1:\n",
    "###### Enter Co-ordinate for x1: 2\n",
    "###### Enter Co-ordinate for x2: 4\n",
    "###### Enter Co-ordinate for y1: 4\n",
    "###### Enter Co-ordinate for y2: 4\n",
    "###### Distance between points (2, 4) and (4, 4) is 2"
   ]
  },
  {
   "cell_type": "markdown",
   "metadata": {},
   "source": [
    "###### Reference:\n",
    "https://en.wikipedia.org/wiki/Euclidean_distance"
   ]
  },
  {
   "cell_type": "code",
   "execution_count": 62,
   "metadata": {},
   "outputs": [
    {
     "name": "stdout",
     "output_type": "stream",
     "text": [
      "Enter Co-ordinate for x1 : 2\n",
      "Enter Co-ordinate for x2 : 4\n",
      "Enter Co-ordinate for y1 : 4\n",
      "Enter Co-ordinate for y2 : 4\n",
      "Distance between Points(2,4) and (4,4) is 2\n"
     ]
    }
   ],
   "source": [
    "x1=int(input(\"Enter Co-ordinate for x1 : \"))\n",
    "x2=int(input(\"Enter Co-ordinate for x2 : \"))\n",
    "y1=int(input(\"Enter Co-ordinate for y1 : \"))\n",
    "y2=int(input(\"Enter Co-ordinate for y2 : \"))\n",
    "DBP=((x1-y1)**2+(x2-y2)**2)**1/2\n",
    "print(f\"Distance between Points({x1},{x2}) and ({y1},{y2}) is {DBP:.0f}\")"
   ]
  },
  {
   "cell_type": "code",
   "execution_count": null,
   "metadata": {},
   "outputs": [],
   "source": []
  },
  {
   "cell_type": "code",
   "execution_count": null,
   "metadata": {},
   "outputs": [],
   "source": []
  },
  {
   "cell_type": "code",
   "execution_count": null,
   "metadata": {},
   "outputs": [],
   "source": []
  },
  {
   "cell_type": "markdown",
   "metadata": {},
   "source": [
    "## 11. Feet to Centimeter Converter\n",
    "### Write a Python program to convert height in feet to centimetres.\n",
    "##### Program Console Sample 1:\n",
    "###### Enter Height in Feet: 5\n",
    "###### There are 152.4 Cm in 5 ft\n",
    "###### Reference:\n",
    "https://www.rapidtables.com/convert/length/feet-to-cm.html"
   ]
  },
  {
   "cell_type": "code",
   "execution_count": 66,
   "metadata": {},
   "outputs": [
    {
     "name": "stdout",
     "output_type": "stream",
     "text": [
      "Enter Height in Feet : 5\n",
      "There are 152.4 in 5 ft\n"
     ]
    }
   ],
   "source": [
    "feet=float(input(\"Enter Height in Feet : \"))\n",
    "fcm=feet/0.032808\n",
    "print(f\"There are {fcm:.1f} in {feet:.0f} ft\")"
   ]
  },
  {
   "cell_type": "markdown",
   "metadata": {},
   "source": []
  },
  {
   "cell_type": "code",
   "execution_count": null,
   "metadata": {},
   "outputs": [],
   "source": []
  },
  {
   "cell_type": "code",
   "execution_count": null,
   "metadata": {},
   "outputs": [],
   "source": []
  },
  {
   "cell_type": "markdown",
   "metadata": {},
   "source": [
    "## 12. BMI Calculator\n",
    "### Write a Python program to calculate body mass index\n",
    "##### Program Console Sample 1:\n",
    "###### Enter Height in Cm: 180\n",
    "###### Enter Weight in Kg: 75\n",
    "###### Your BMI is 23.15"
   ]
  },
  {
   "cell_type": "code",
   "execution_count": 77,
   "metadata": {},
   "outputs": [
    {
     "name": "stdout",
     "output_type": "stream",
     "text": [
      "Enter Height in Centimeters : 180\n",
      "Enter Weight in Kilograms : 75\n",
      "Your BMI is 23.15\n"
     ]
    }
   ],
   "source": [
    "h=float(input(\"Enter Height in Centimeters : \"))\n",
    "w=float(input(\"Enter Weight in Kilograms : \"))\n",
    "bmi=w/(h/100)**2\n",
    "print(f\"Your BMI is {bmi:.2f}\")"
   ]
  },
  {
   "cell_type": "code",
   "execution_count": null,
   "metadata": {},
   "outputs": [],
   "source": []
  },
  {
   "cell_type": "code",
   "execution_count": null,
   "metadata": {},
   "outputs": [],
   "source": []
  },
  {
   "cell_type": "markdown",
   "metadata": {},
   "source": [
    "## 13. Sum of n Positive Integers\n",
    "### Write a python program to sum of the first n positive integers\n",
    "#### Program Console Sample 1:\n",
    "###### Enter value of n: 5\n",
    "###### Sum of n Positive integers till 5 is 15"
   ]
  },
  {
   "cell_type": "code",
   "execution_count": 79,
   "metadata": {},
   "outputs": [
    {
     "name": "stdout",
     "output_type": "stream",
     "text": [
      "Enter Value of n : 5\n"
     ]
    },
    {
     "data": {
      "text/plain": [
       "15"
      ]
     },
     "execution_count": 79,
     "metadata": {},
     "output_type": "execute_result"
    }
   ],
   "source": [
    "n=int(input(\"Enter Value of n : \"))\n",
    "sum=0\n",
    "for i in range(n+1):\n",
    "    sum+=i\n",
    "sum"
   ]
  },
  {
   "cell_type": "code",
   "execution_count": null,
   "metadata": {},
   "outputs": [],
   "source": []
  },
  {
   "cell_type": "code",
   "execution_count": null,
   "metadata": {},
   "outputs": [],
   "source": []
  },
  {
   "cell_type": "markdown",
   "metadata": {},
   "source": [
    "## 14. Digits Sum of a Number\n",
    "### Write a Python program to calculate the sum of the digits in an integer\n",
    "#### Program Console Sample 1:\n",
    "##### Enter a number: 15\n",
    "###### Sum of 1 + 5 is 6\n",
    "#### Program Console Sample 2:\n",
    "##### Enter a number: 1234\n",
    "###### Sum of 1 + 2 + 3 + 4 is 10"
   ]
  },
  {
   "cell_type": "code",
   "execution_count": 1,
   "metadata": {},
   "outputs": [
    {
     "name": "stdout",
     "output_type": "stream",
     "text": [
      "Enter A Number : 15\n",
      "Sum of 1+5 is 6\n"
     ]
    }
   ],
   "source": [
    "num=input(\"Enter A Number : \")\n",
    "sums=0\n",
    "print(\"Sum of \",end=\"\")\n",
    "for x in num:\n",
    "    sums+=int(x)\n",
    "    print(f\"{x}+\",end=\"\")\n",
    "print(\"\\b is\",sums)"
   ]
  },
  {
   "cell_type": "code",
   "execution_count": 2,
   "metadata": {},
   "outputs": [
    {
     "name": "stdout",
     "output_type": "stream",
     "text": [
      "Enter A Number : 1234\n",
      "Sum of 1+2+3+4 is 10\n"
     ]
    }
   ],
   "source": [
    "num=input(\"Enter A Number : \")\n",
    "sums=0\n",
    "print(\"Sum of \",end=\"\")\n",
    "for x in num:\n",
    "    sums+=int(x)\n",
    "    print(f\"{x}+\",end=\"\")\n",
    "print(\"\\b is\",sums)"
   ]
  },
  {
   "cell_type": "code",
   "execution_count": null,
   "metadata": {},
   "outputs": [],
   "source": []
  },
  {
   "cell_type": "code",
   "execution_count": null,
   "metadata": {},
   "outputs": [],
   "source": []
  },
  {
   "cell_type": "code",
   "execution_count": null,
   "metadata": {},
   "outputs": [],
   "source": []
  },
  {
   "cell_type": "code",
   "execution_count": null,
   "metadata": {},
   "outputs": [],
   "source": []
  },
  {
   "cell_type": "code",
   "execution_count": null,
   "metadata": {},
   "outputs": [],
   "source": []
  },
  {
   "cell_type": "code",
   "execution_count": null,
   "metadata": {},
   "outputs": [],
   "source": []
  },
  {
   "cell_type": "code",
   "execution_count": null,
   "metadata": {},
   "outputs": [],
   "source": []
  },
  {
   "cell_type": "code",
   "execution_count": null,
   "metadata": {},
   "outputs": [],
   "source": []
  }
 ],
 "metadata": {
  "kernelspec": {
   "display_name": "Python 3",
   "language": "python",
   "name": "python3"
  },
  "language_info": {
   "codemirror_mode": {
    "name": "ipython",
    "version": 3
   },
   "file_extension": ".py",
   "mimetype": "text/x-python",
   "name": "python",
   "nbconvert_exporter": "python",
   "pygments_lexer": "ipython3",
   "version": "3.7.3"
  }
 },
 "nbformat": 4,
 "nbformat_minor": 2
}
